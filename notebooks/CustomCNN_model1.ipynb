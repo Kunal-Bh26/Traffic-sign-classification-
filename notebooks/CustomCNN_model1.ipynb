{
 "cells": [
  {
   "cell_type": "code",
   "execution_count": 1,
   "metadata": {
    "_cell_guid": "b1076dfc-b9ad-4769-8c92-a6c4dae69d19",
    "_uuid": "8f2839f25d086af736a60e9eeb907d3b93b6e0e5",
    "execution": {
     "iopub.execute_input": "2025-06-12T07:01:39.868737Z",
     "iopub.status.busy": "2025-06-12T07:01:39.868493Z",
     "iopub.status.idle": "2025-06-12T07:01:56.580335Z",
     "shell.execute_reply": "2025-06-12T07:01:56.579786Z",
     "shell.execute_reply.started": "2025-06-12T07:01:39.868713Z"
    },
    "trusted": true
   },
   "outputs": [
    {
     "name": "stderr",
     "output_type": "stream",
     "text": [
      "2025-06-12 07:01:43.963734: E external/local_xla/xla/stream_executor/cuda/cuda_fft.cc:477] Unable to register cuFFT factory: Attempting to register factory for plugin cuFFT when one has already been registered\n",
      "WARNING: All log messages before absl::InitializeLog() is called are written to STDERR\n",
      "E0000 00:00:1749711704.196408      35 cuda_dnn.cc:8310] Unable to register cuDNN factory: Attempting to register factory for plugin cuDNN when one has already been registered\n",
      "E0000 00:00:1749711704.270499      35 cuda_blas.cc:1418] Unable to register cuBLAS factory: Attempting to register factory for plugin cuBLAS when one has already been registered\n"
     ]
    }
   ],
   "source": [
    "import numpy as np\n",
    "import pandas as pd\n",
    "import os\n",
    "import cv2\n",
    "import tensorflow as tf\n",
    "from PIL import Image\n",
    "from sklearn.model_selection import train_test_split\n",
    "from sklearn.utils import class_weight"
   ]
  },
  {
   "cell_type": "code",
   "execution_count": 2,
   "metadata": {
    "execution": {
     "iopub.execute_input": "2025-06-12T07:01:56.582070Z",
     "iopub.status.busy": "2025-06-12T07:01:56.581616Z",
     "iopub.status.idle": "2025-06-12T07:01:56.585594Z",
     "shell.execute_reply": "2025-06-12T07:01:56.584884Z",
     "shell.execute_reply.started": "2025-06-12T07:01:56.582052Z"
    },
    "trusted": true
   },
   "outputs": [],
   "source": [
    "IMG_SIZE = (128, 128)\n",
    "BATCH_SIZE = 32\n",
    "CLASSES = 43\n",
    "DATA_PATH = '/kaggle/input/gtsrb-german-traffic-sign'"
   ]
  },
  {
   "cell_type": "code",
   "execution_count": 3,
   "metadata": {
    "execution": {
     "iopub.execute_input": "2025-06-12T07:02:18.802408Z",
     "iopub.status.busy": "2025-06-12T07:02:18.801854Z",
     "iopub.status.idle": "2025-06-12T07:02:18.809191Z",
     "shell.execute_reply": "2025-06-12T07:02:18.808453Z",
     "shell.execute_reply.started": "2025-06-12T07:02:18.802385Z"
    },
    "trusted": true
   },
   "outputs": [],
   "source": [
    "# Data Loading \n",
    "def load_data():\n",
    "    # Training data\n",
    "    train_df = pd.DataFrame(columns=['path', 'label'])\n",
    "    for class_id in range(CLASSES):\n",
    "        class_dir = os.path.join(DATA_PATH, 'train', str(class_id))\n",
    "        image_paths = [os.path.join(class_dir, f) for f in os.listdir(class_dir)]\n",
    "        temp_df = pd.DataFrame({'path': image_paths, 'label': class_id})\n",
    "        train_df = pd.concat([train_df, temp_df], ignore_index=True)\n",
    "\n",
    "    # Test data\n",
    "    test_df = pd.read_csv(os.path.join(DATA_PATH, 'Test.csv'))\n",
    "    test_df['path'] = test_df['Path'].apply(lambda x: os.path.join(DATA_PATH, x))\n",
    "    test_df['label'] = test_df['ClassId'].astype(np.int32)\n",
    "\n",
    "    # Print dataset statistics\n",
    "    \n",
    "    print(f\"Total training images loaded: {len(train_df)}\")\n",
    "    print(f\"Total test images loaded: {len(test_df)}\")\n",
    "    print(f\"Number of unique classes found: {train_df['label'].nunique()}\")\n",
    "    \n",
    "    # Stratified split\n",
    "    train_df, val_df = train_test_split(\n",
    "    train_df, test_size=0.15, stratify=train_df['label'], random_state=42\n",
    "    )\n",
    "\n",
    "    # Force labels to int32 in all splits\n",
    "    train_df['label'] = train_df['label'].astype(int).astype('int32')\n",
    "    val_df['label'] = val_df['label'].astype(int).astype('int32')\n",
    "    test_df['label'] = test_df['label'].astype(int).astype('int32')\n",
    "\n",
    "    \n",
    "    print(f\"\\nAfter stratified split:\")\n",
    "    print(f\"- Training samples: {len(train_df)}\")\n",
    "    print(f\"- Validation samples: {len(val_df)} \\n\")\n",
    "    \n",
    "    \n",
    "    return train_df, val_df, test_df\n"
   ]
  },
  {
   "cell_type": "code",
   "execution_count": 4,
   "metadata": {
    "execution": {
     "iopub.execute_input": "2025-06-12T07:02:28.081018Z",
     "iopub.status.busy": "2025-06-12T07:02:28.080328Z",
     "iopub.status.idle": "2025-06-12T07:02:28.085014Z",
     "shell.execute_reply": "2025-06-12T07:02:28.084413Z",
     "shell.execute_reply.started": "2025-06-12T07:02:28.080993Z"
    },
    "trusted": true
   },
   "outputs": [],
   "source": [
    "# CLAHE Preprocessing\n",
    "def clahe_preprocessing(img):\n",
    "    img = np.array(img, dtype=np.uint8)\n",
    "    lab = cv2.cvtColor(img, cv2.COLOR_RGB2LAB)\n",
    "    clahe = cv2.createCLAHE(clipLimit=3.0, tileGridSize=(8,8))\n",
    "    lab[:,:,0] = clahe.apply(lab[:,:,0])\n",
    "    return cv2.cvtColor(lab, cv2.COLOR_LAB2RGB)"
   ]
  },
  {
   "cell_type": "code",
   "execution_count": 5,
   "metadata": {
    "execution": {
     "iopub.execute_input": "2025-06-12T07:02:37.593139Z",
     "iopub.status.busy": "2025-06-12T07:02:37.592848Z",
     "iopub.status.idle": "2025-06-12T07:02:37.659379Z",
     "shell.execute_reply": "2025-06-12T07:02:37.658639Z",
     "shell.execute_reply.started": "2025-06-12T07:02:37.593118Z"
    },
    "trusted": true
   },
   "outputs": [],
   "source": [
    "# Data Augmentation\n",
    "train_datagen = tf.keras.preprocessing.image.ImageDataGenerator(\n",
    "    preprocessing_function=lambda x: clahe_preprocessing(x).astype(np.float32)/255.0,\n",
    "    rotation_range=25,\n",
    "    zoom_range=0.2,\n",
    "    width_shift_range=0.15,\n",
    "    height_shift_range=0.15,\n",
    "    shear_range=0.15,\n",
    "    brightness_range=[0.7, 1.3],\n",
    "    channel_shift_range=50,\n",
    "    fill_mode='constant',\n",
    "    cval=0.0\n",
    ")\n",
    "\n",
    "val_test_datagen = tf.keras.preprocessing.image.ImageDataGenerator(\n",
    "    preprocessing_function=lambda x: clahe_preprocessing(x).astype(np.float32)/255.0\n",
    ")\n"
   ]
  },
  {
   "cell_type": "code",
   "execution_count": 6,
   "metadata": {
    "execution": {
     "iopub.execute_input": "2025-06-12T07:02:49.145592Z",
     "iopub.status.busy": "2025-06-12T07:02:49.145061Z",
     "iopub.status.idle": "2025-06-12T07:02:49.150656Z",
     "shell.execute_reply": "2025-06-12T07:02:49.149598Z",
     "shell.execute_reply.started": "2025-06-12T07:02:49.145567Z"
    },
    "trusted": true
   },
   "outputs": [],
   "source": [
    "def create_generators(train_df, val_df, test_df):\n",
    "    train_gen = train_datagen.flow_from_dataframe(\n",
    "        train_df,\n",
    "        x_col='path',\n",
    "        y_col='label',\n",
    "        target_size=IMG_SIZE,\n",
    "        class_mode='raw',\n",
    "        batch_size=BATCH_SIZE,\n",
    "        shuffle=True\n",
    "    )\n",
    "    \n",
    "    val_gen = val_test_datagen.flow_from_dataframe(\n",
    "        val_df,\n",
    "        x_col='path',\n",
    "        y_col='label',\n",
    "        target_size=IMG_SIZE,\n",
    "        class_mode='raw',\n",
    "        batch_size=BATCH_SIZE,\n",
    "        shuffle=False\n",
    "    )\n",
    "    \n",
    "    test_gen = val_test_datagen.flow_from_dataframe(\n",
    "        test_df,\n",
    "        x_col='path',\n",
    "        y_col='label',\n",
    "        target_size=IMG_SIZE,\n",
    "        class_mode='raw',\n",
    "        batch_size=BATCH_SIZE,\n",
    "        shuffle=False\n",
    "    )\n",
    "    \n",
    "    return train_gen, val_gen, test_gen"
   ]
  },
  {
   "cell_type": "code",
   "execution_count": 7,
   "metadata": {
    "execution": {
     "iopub.execute_input": "2025-06-12T07:03:50.686541Z",
     "iopub.status.busy": "2025-06-12T07:03:50.686222Z",
     "iopub.status.idle": "2025-06-12T07:03:50.698495Z",
     "shell.execute_reply": "2025-06-12T07:03:50.697702Z",
     "shell.execute_reply.started": "2025-06-12T07:03:50.686519Z"
    },
    "trusted": true
   },
   "outputs": [],
   "source": [
    "from tensorflow.keras.regularizers import l2\n",
    "\n",
    "from tensorflow.keras.layers import (\n",
    "    Conv2D, BatchNormalization, MaxPool2D, Dense, \n",
    "    GlobalAveragePooling2D, Dropout, Multiply,\n",
    "    Reshape, Input, Activation\n",
    ")\n",
    "\n",
    "\n",
    "# Attention Model 1(Channel)\n",
    "class ChannelAttention(tf.keras.layers.Layer):\n",
    "    def __init__(self, ratio=8):\n",
    "        super().__init__()\n",
    "        self.ratio = ratio\n",
    "        \n",
    "    def build(self, input_shape):\n",
    "        self.channels = input_shape[-1]\n",
    "        self.gap = GlobalAveragePooling2D()\n",
    "        self.dense1 = Dense(self.channels // self.ratio, \n",
    "                          activation='relu', \n",
    "                          kernel_initializer='he_normal',\n",
    "                          use_bias=False)\n",
    "        self.dense2 = Dense(self.channels, \n",
    "                          activation='sigmoid',\n",
    "                          kernel_initializer='he_normal',\n",
    "                          use_bias=False)\n",
    "        super().build(input_shape)\n",
    "        \n",
    "    def call(self, inputs):\n",
    "        gap = self.gap(inputs) \n",
    "        gap = Reshape((1, 1, self.channels))(gap) \n",
    "        \n",
    "        x = self.dense1(gap)  \n",
    "        x = self.dense2(x)    \n",
    "        \n",
    "        return Multiply()([inputs, x]) \n",
    "\n",
    "\n",
    "\n",
    "\n",
    "# Attention Model 2(Spatial)\n",
    "class SpatialAttention(tf.keras.layers.Layer):\n",
    "    def __init__(self):\n",
    "        super().__init__()\n",
    "        self.conv = Conv2D(1, 7, padding='same', \n",
    "                          activation='sigmoid',\n",
    "                          kernel_initializer='he_normal')\n",
    "        \n",
    "    def call(self, inputs):\n",
    "        avg = tf.reduce_mean(inputs, axis=-1, keepdims=True)\n",
    "        mx = tf.reduce_max(inputs, axis=-1, keepdims=True)\n",
    "        x = tf.concat([avg, mx], axis=-1)\n",
    "        return inputs * self.conv(x)"
   ]
  },
  {
   "cell_type": "code",
   "execution_count": 8,
   "metadata": {
    "execution": {
     "iopub.execute_input": "2025-06-12T07:04:01.943564Z",
     "iopub.status.busy": "2025-06-12T07:04:01.942994Z",
     "iopub.status.idle": "2025-06-12T07:04:01.949574Z",
     "shell.execute_reply": "2025-06-12T07:04:01.948862Z",
     "shell.execute_reply.started": "2025-06-12T07:04:01.943540Z"
    },
    "trusted": true
   },
   "outputs": [],
   "source": [
    "# Building CNN\n",
    "\n",
    "def conv_block(x, filters, kernel=3, stride=1, use_attn=True):\n",
    "    x = Conv2D(filters, kernel, strides=stride, padding='same',\n",
    "              kernel_initializer='he_normal')(x)\n",
    "    x = BatchNormalization()(x)\n",
    "    x = Activation('swish')(x)\n",
    "    if use_attn:\n",
    "        x = ChannelAttention(ratio=8)(x)\n",
    "        x = SpatialAttention()(x)\n",
    "    return x\n",
    "\n",
    "\n",
    "def build_model():\n",
    "    inputs = Input(shape=(*IMG_SIZE, 3))\n",
    "    \n",
    "    # Stem\n",
    "    x = conv_block(inputs, 32, stride=2, use_attn=False)\n",
    "    \n",
    "    # Block 1\n",
    "    x = conv_block(x, 64)\n",
    "    x = MaxPool2D(2)(x)\n",
    "    x = Dropout(0.2)(x)\n",
    "    \n",
    "    # Block 2\n",
    "    x = conv_block(x, 128)\n",
    "    x = conv_block(x, 128)\n",
    "    x = MaxPool2D(2)(x)\n",
    "    x = Dropout(0.3)(x)\n",
    "    \n",
    "    # Block 3\n",
    "    x = conv_block(x, 256)\n",
    "    x = conv_block(x, 512)\n",
    "    x = MaxPool2D(2)(x)\n",
    "    x = Dropout(0.4)(x)\n",
    "    \n",
    "    # Head\n",
    "    x = GlobalAveragePooling2D()(x)\n",
    "    x = Dense(512, activation='swish', kernel_regularizer=l2(1e-4))(x)\n",
    "    x = Dropout(0.5)(x)\n",
    "    outputs = Dense(CLASSES, activation='softmax')(x)\n",
    "    \n",
    "    return tf.keras.Model(inputs, outputs)"
   ]
  },
  {
   "cell_type": "code",
   "execution_count": 10,
   "metadata": {
    "execution": {
     "iopub.execute_input": "2025-06-12T07:04:42.667500Z",
     "iopub.status.busy": "2025-06-12T07:04:42.667206Z",
     "iopub.status.idle": "2025-06-12T07:07:19.451680Z",
     "shell.execute_reply": "2025-06-12T07:07:19.451027Z",
     "shell.execute_reply.started": "2025-06-12T07:04:42.667480Z"
    },
    "trusted": true
   },
   "outputs": [
    {
     "name": "stdout",
     "output_type": "stream",
     "text": [
      "Total training images loaded: 39209\n",
      "Total test images loaded: 12630\n",
      "Number of unique classes found: 43\n",
      "\n",
      "After stratified split:\n",
      "- Training samples: 33327\n",
      "- Validation samples: 5882 \n",
      "\n",
      "Found 33327 validated image filenames.\n",
      "Found 5882 validated image filenames.\n",
      "Found 12630 validated image filenames.\n"
     ]
    }
   ],
   "source": [
    "# Load data\n",
    "train_df, val_df, test_df = load_data()\n",
    "train_gen, val_gen, test_gen = create_generators(train_df, val_df, test_df)"
   ]
  },
  {
   "cell_type": "code",
   "execution_count": 11,
   "metadata": {
    "execution": {
     "iopub.execute_input": "2025-06-12T07:08:16.786771Z",
     "iopub.status.busy": "2025-06-12T07:08:16.786496Z",
     "iopub.status.idle": "2025-06-12T07:08:16.797385Z",
     "shell.execute_reply": "2025-06-12T07:08:16.796479Z",
     "shell.execute_reply.started": "2025-06-12T07:08:16.786751Z"
    },
    "trusted": true
   },
   "outputs": [],
   "source": [
    "# Class weights\n",
    "class_weights = class_weight.compute_class_weight(\n",
    "    'balanced', classes=np.unique(train_df['label']), y=train_df['label']\n",
    ")\n",
    "class_weights = {i: class_weights[i] for i in range(CLASSES)}"
   ]
  },
  {
   "cell_type": "code",
   "execution_count": 12,
   "metadata": {
    "execution": {
     "iopub.execute_input": "2025-06-12T07:08:18.684561Z",
     "iopub.status.busy": "2025-06-12T07:08:18.683842Z",
     "iopub.status.idle": "2025-06-12T07:08:22.667236Z",
     "shell.execute_reply": "2025-06-12T07:08:22.666703Z",
     "shell.execute_reply.started": "2025-06-12T07:08:18.684537Z"
    },
    "trusted": true
   },
   "outputs": [
    {
     "name": "stderr",
     "output_type": "stream",
     "text": [
      "I0000 00:00:1749712100.661858      35 gpu_device.cc:2022] Created device /job:localhost/replica:0/task:0/device:GPU:0 with 13942 MB memory:  -> device: 0, name: Tesla T4, pci bus id: 0000:00:04.0, compute capability: 7.5\n",
      "I0000 00:00:1749712100.662545      35 gpu_device.cc:2022] Created device /job:localhost/replica:0/task:0/device:GPU:1 with 13942 MB memory:  -> device: 1, name: Tesla T4, pci bus id: 0000:00:05.0, compute capability: 7.5\n"
     ]
    }
   ],
   "source": [
    "from tensorflow.keras.optimizers import AdamW\n",
    "\n",
    "# Model & callbacks\n",
    "model = build_model()\n",
    "model.compile(\n",
    "    optimizer=AdamW(learning_rate=1e-3, weight_decay=1e-4),\n",
    "    loss='sparse_categorical_crossentropy', metrics=['accuracy']\n",
    ")\n",
    "\n",
    "callbacks = [\n",
    "    tf.keras.callbacks.EarlyStopping(patience=12, restore_best_weights=True,\n",
    "                                    monitor='val_accuracy', mode='max'),\n",
    "    tf.keras.callbacks.ReduceLROnPlateau(monitor='val_loss', factor=0.5,\n",
    "                                        patience=5, min_lr=1e-6),\n",
    "    tf.keras.callbacks.ModelCheckpoint('best_model.h5', save_best_only=True,\n",
    "                                      monitor='val_accuracy')\n",
    "]"
   ]
  },
  {
   "cell_type": "code",
   "execution_count": 13,
   "metadata": {
    "execution": {
     "iopub.execute_input": "2025-06-12T07:08:24.621690Z",
     "iopub.status.busy": "2025-06-12T07:08:24.621158Z",
     "iopub.status.idle": "2025-06-12T10:02:09.389774Z",
     "shell.execute_reply": "2025-06-12T10:02:09.389168Z",
     "shell.execute_reply.started": "2025-06-12T07:08:24.621667Z"
    },
    "trusted": true
   },
   "outputs": [
    {
     "name": "stderr",
     "output_type": "stream",
     "text": [
      "/usr/local/lib/python3.11/dist-packages/keras/src/trainers/data_adapters/py_dataset_adapter.py:121: UserWarning: Your `PyDataset` class should call `super().__init__(**kwargs)` in its constructor. `**kwargs` can include `workers`, `use_multiprocessing`, `max_queue_size`. Do not pass these arguments to `fit()`, as they will be ignored.\n",
      "  self._warn_if_super_not_called()\n"
     ]
    },
    {
     "name": "stdout",
     "output_type": "stream",
     "text": [
      "Epoch 1/50\n"
     ]
    },
    {
     "name": "stderr",
     "output_type": "stream",
     "text": [
      "WARNING: All log messages before absl::InitializeLog() is called are written to STDERR\n",
      "I0000 00:00:1749712117.928790     108 service.cc:148] XLA service 0x7936d000bb40 initialized for platform CUDA (this does not guarantee that XLA will be used). Devices:\n",
      "I0000 00:00:1749712117.929780     108 service.cc:156]   StreamExecutor device (0): Tesla T4, Compute Capability 7.5\n",
      "I0000 00:00:1749712117.929800     108 service.cc:156]   StreamExecutor device (1): Tesla T4, Compute Capability 7.5\n",
      "I0000 00:00:1749712119.307556     108 cuda_dnn.cc:529] Loaded cuDNN version 90300\n"
     ]
    },
    {
     "name": "stdout",
     "output_type": "stream",
     "text": [
      "\u001b[1m   2/1042\u001b[0m \u001b[37m━━━━━━━━━━━━━━━━━━━━\u001b[0m \u001b[1m56s\u001b[0m 55ms/step - accuracy: 0.0547 - loss: 4.1866   "
     ]
    },
    {
     "name": "stderr",
     "output_type": "stream",
     "text": [
      "I0000 00:00:1749712132.317041     108 device_compiler.h:188] Compiled cluster using XLA!  This line is logged at most once for the lifetime of the process.\n"
     ]
    },
    {
     "name": "stdout",
     "output_type": "stream",
     "text": [
      "\u001b[1m1042/1042\u001b[0m \u001b[32m━━━━━━━━━━━━━━━━━━━━\u001b[0m\u001b[37m\u001b[0m \u001b[1m406s\u001b[0m 364ms/step - accuracy: 0.0828 - loss: 3.2913 - val_accuracy: 0.3245 - val_loss: 2.0553 - learning_rate: 0.0010\n",
      "Epoch 2/50\n",
      "\u001b[1m1042/1042\u001b[0m \u001b[32m━━━━━━━━━━━━━━━━━━━━\u001b[0m\u001b[37m\u001b[0m \u001b[1m223s\u001b[0m 214ms/step - accuracy: 0.4226 - loss: 1.7107 - val_accuracy: 0.8477 - val_loss: 0.5676 - learning_rate: 0.0010\n",
      "Epoch 3/50\n",
      "\u001b[1m1042/1042\u001b[0m \u001b[32m━━━━━━━━━━━━━━━━━━━━\u001b[0m\u001b[37m\u001b[0m \u001b[1m224s\u001b[0m 215ms/step - accuracy: 0.7507 - loss: 0.7692 - val_accuracy: 0.9442 - val_loss: 0.2680 - learning_rate: 0.0010\n",
      "Epoch 4/50\n",
      "\u001b[1m1042/1042\u001b[0m \u001b[32m━━━━━━━━━━━━━━━━━━━━\u001b[0m\u001b[37m\u001b[0m \u001b[1m223s\u001b[0m 214ms/step - accuracy: 0.8561 - loss: 0.5055 - val_accuracy: 0.9638 - val_loss: 0.1875 - learning_rate: 0.0010\n",
      "Epoch 5/50\n",
      "\u001b[1m1042/1042\u001b[0m \u001b[32m━━━━━━━━━━━━━━━━━━━━\u001b[0m\u001b[37m\u001b[0m \u001b[1m220s\u001b[0m 211ms/step - accuracy: 0.8934 - loss: 0.3773 - val_accuracy: 0.9740 - val_loss: 0.1579 - learning_rate: 0.0010\n",
      "Epoch 6/50\n",
      "\u001b[1m1042/1042\u001b[0m \u001b[32m━━━━━━━━━━━━━━━━━━━━\u001b[0m\u001b[37m\u001b[0m \u001b[1m226s\u001b[0m 217ms/step - accuracy: 0.9075 - loss: 0.3326 - val_accuracy: 0.9840 - val_loss: 0.1146 - learning_rate: 0.0010\n",
      "Epoch 7/50\n",
      "\u001b[1m1042/1042\u001b[0m \u001b[32m━━━━━━━━━━━━━━━━━━━━\u001b[0m\u001b[37m\u001b[0m \u001b[1m221s\u001b[0m 212ms/step - accuracy: 0.9108 - loss: 0.3357 - val_accuracy: 0.9903 - val_loss: 0.0956 - learning_rate: 0.0010\n",
      "Epoch 8/50\n",
      "\u001b[1m1042/1042\u001b[0m \u001b[32m━━━━━━━━━━━━━━━━━━━━\u001b[0m\u001b[37m\u001b[0m \u001b[1m219s\u001b[0m 211ms/step - accuracy: 0.9294 - loss: 0.2746 - val_accuracy: 0.9784 - val_loss: 0.1288 - learning_rate: 0.0010\n",
      "Epoch 9/50\n",
      "\u001b[1m1042/1042\u001b[0m \u001b[32m━━━━━━━━━━━━━━━━━━━━\u001b[0m\u001b[37m\u001b[0m \u001b[1m219s\u001b[0m 210ms/step - accuracy: 0.9320 - loss: 0.2597 - val_accuracy: 0.9940 - val_loss: 0.0786 - learning_rate: 0.0010\n",
      "Epoch 10/50\n",
      "\u001b[1m1042/1042\u001b[0m \u001b[32m━━━━━━━━━━━━━━━━━━━━\u001b[0m\u001b[37m\u001b[0m \u001b[1m223s\u001b[0m 214ms/step - accuracy: 0.9407 - loss: 0.2320 - val_accuracy: 0.9913 - val_loss: 0.0822 - learning_rate: 0.0010\n",
      "Epoch 11/50\n",
      "\u001b[1m1042/1042\u001b[0m \u001b[32m━━━━━━━━━━━━━━━━━━━━\u001b[0m\u001b[37m\u001b[0m \u001b[1m222s\u001b[0m 213ms/step - accuracy: 0.9383 - loss: 0.2425 - val_accuracy: 0.9922 - val_loss: 0.0794 - learning_rate: 0.0010\n",
      "Epoch 12/50\n",
      "\u001b[1m1042/1042\u001b[0m \u001b[32m━━━━━━━━━━━━━━━━━━━━\u001b[0m\u001b[37m\u001b[0m \u001b[1m223s\u001b[0m 214ms/step - accuracy: 0.9477 - loss: 0.2120 - val_accuracy: 0.9855 - val_loss: 0.0992 - learning_rate: 0.0010\n",
      "Epoch 13/50\n",
      "\u001b[1m1042/1042\u001b[0m \u001b[32m━━━━━━━━━━━━━━━━━━━━\u001b[0m\u001b[37m\u001b[0m \u001b[1m223s\u001b[0m 214ms/step - accuracy: 0.9489 - loss: 0.2014 - val_accuracy: 0.9954 - val_loss: 0.0639 - learning_rate: 0.0010\n",
      "Epoch 14/50\n",
      "\u001b[1m1042/1042\u001b[0m \u001b[32m━━━━━━━━━━━━━━━━━━━━\u001b[0m\u001b[37m\u001b[0m \u001b[1m220s\u001b[0m 211ms/step - accuracy: 0.9432 - loss: 0.2174 - val_accuracy: 0.9878 - val_loss: 0.0865 - learning_rate: 0.0010\n",
      "Epoch 15/50\n",
      "\u001b[1m1042/1042\u001b[0m \u001b[32m━━━━━━━━━━━━━━━━━━━━\u001b[0m\u001b[37m\u001b[0m \u001b[1m219s\u001b[0m 210ms/step - accuracy: 0.9491 - loss: 0.1935 - val_accuracy: 0.9934 - val_loss: 0.0663 - learning_rate: 0.0010\n",
      "Epoch 16/50\n",
      "\u001b[1m1042/1042\u001b[0m \u001b[32m━━━━━━━━━━━━━━━━━━━━\u001b[0m\u001b[37m\u001b[0m \u001b[1m222s\u001b[0m 213ms/step - accuracy: 0.9528 - loss: 0.1867 - val_accuracy: 0.9954 - val_loss: 0.0578 - learning_rate: 0.0010\n",
      "Epoch 17/50\n",
      "\u001b[1m1042/1042\u001b[0m \u001b[32m━━━━━━━━━━━━━━━━━━━━\u001b[0m\u001b[37m\u001b[0m \u001b[1m224s\u001b[0m 215ms/step - accuracy: 0.9545 - loss: 0.1746 - val_accuracy: 0.9947 - val_loss: 0.0599 - learning_rate: 0.0010\n",
      "Epoch 18/50\n",
      "\u001b[1m1042/1042\u001b[0m \u001b[32m━━━━━━━━━━━━━━━━━━━━\u001b[0m\u001b[37m\u001b[0m \u001b[1m225s\u001b[0m 216ms/step - accuracy: 0.9578 - loss: 0.1624 - val_accuracy: 0.9964 - val_loss: 0.0537 - learning_rate: 0.0010\n",
      "Epoch 19/50\n",
      "\u001b[1m1042/1042\u001b[0m \u001b[32m━━━━━━━━━━━━━━━━━━━━\u001b[0m\u001b[37m\u001b[0m \u001b[1m225s\u001b[0m 216ms/step - accuracy: 0.9536 - loss: 0.1750 - val_accuracy: 0.9959 - val_loss: 0.0572 - learning_rate: 0.0010\n",
      "Epoch 20/50\n",
      "\u001b[1m1042/1042\u001b[0m \u001b[32m━━━━━━━━━━━━━━━━━━━━\u001b[0m\u001b[37m\u001b[0m \u001b[1m224s\u001b[0m 215ms/step - accuracy: 0.9578 - loss: 0.1607 - val_accuracy: 0.9954 - val_loss: 0.0547 - learning_rate: 0.0010\n",
      "Epoch 21/50\n",
      "\u001b[1m1042/1042\u001b[0m \u001b[32m━━━━━━━━━━━━━━━━━━━━\u001b[0m\u001b[37m\u001b[0m \u001b[1m223s\u001b[0m 214ms/step - accuracy: 0.9578 - loss: 0.1588 - val_accuracy: 0.9974 - val_loss: 0.0516 - learning_rate: 0.0010\n",
      "Epoch 22/50\n",
      "\u001b[1m1042/1042\u001b[0m \u001b[32m━━━━━━━━━━━━━━━━━━━━\u001b[0m\u001b[37m\u001b[0m \u001b[1m225s\u001b[0m 216ms/step - accuracy: 0.9557 - loss: 0.1610 - val_accuracy: 0.9893 - val_loss: 0.0766 - learning_rate: 0.0010\n",
      "Epoch 23/50\n",
      "\u001b[1m1042/1042\u001b[0m \u001b[32m━━━━━━━━━━━━━━━━━━━━\u001b[0m\u001b[37m\u001b[0m \u001b[1m225s\u001b[0m 215ms/step - accuracy: 0.9605 - loss: 0.1610 - val_accuracy: 0.9930 - val_loss: 0.0605 - learning_rate: 0.0010\n",
      "Epoch 24/50\n",
      "\u001b[1m1042/1042\u001b[0m \u001b[32m━━━━━━━━━━━━━━━━━━━━\u001b[0m\u001b[37m\u001b[0m \u001b[1m227s\u001b[0m 217ms/step - accuracy: 0.9578 - loss: 0.1569 - val_accuracy: 0.9980 - val_loss: 0.0450 - learning_rate: 0.0010\n",
      "Epoch 25/50\n",
      "\u001b[1m1042/1042\u001b[0m \u001b[32m━━━━━━━━━━━━━━━━━━━━\u001b[0m\u001b[37m\u001b[0m \u001b[1m223s\u001b[0m 214ms/step - accuracy: 0.9588 - loss: 0.1530 - val_accuracy: 0.9969 - val_loss: 0.0436 - learning_rate: 0.0010\n",
      "Epoch 26/50\n",
      "\u001b[1m1042/1042\u001b[0m \u001b[32m━━━━━━━━━━━━━━━━━━━━\u001b[0m\u001b[37m\u001b[0m \u001b[1m223s\u001b[0m 214ms/step - accuracy: 0.9632 - loss: 0.1455 - val_accuracy: 0.9964 - val_loss: 0.0492 - learning_rate: 0.0010\n",
      "Epoch 27/50\n",
      "\u001b[1m1042/1042\u001b[0m \u001b[32m━━━━━━━━━━━━━━━━━━━━\u001b[0m\u001b[37m\u001b[0m \u001b[1m224s\u001b[0m 215ms/step - accuracy: 0.9612 - loss: 0.1423 - val_accuracy: 0.9986 - val_loss: 0.0443 - learning_rate: 0.0010\n",
      "Epoch 28/50\n",
      "\u001b[1m1042/1042\u001b[0m \u001b[32m━━━━━━━━━━━━━━━━━━━━\u001b[0m\u001b[37m\u001b[0m \u001b[1m225s\u001b[0m 216ms/step - accuracy: 0.9640 - loss: 0.1384 - val_accuracy: 0.9964 - val_loss: 0.0474 - learning_rate: 0.0010\n",
      "Epoch 29/50\n",
      "\u001b[1m1042/1042\u001b[0m \u001b[32m━━━━━━━━━━━━━━━━━━━━\u001b[0m\u001b[37m\u001b[0m \u001b[1m224s\u001b[0m 215ms/step - accuracy: 0.9692 - loss: 0.1194 - val_accuracy: 0.9973 - val_loss: 0.0470 - learning_rate: 0.0010\n",
      "Epoch 30/50\n",
      "\u001b[1m1042/1042\u001b[0m \u001b[32m━━━━━━━━━━━━━━━━━━━━\u001b[0m\u001b[37m\u001b[0m \u001b[1m222s\u001b[0m 213ms/step - accuracy: 0.9617 - loss: 0.1471 - val_accuracy: 0.9981 - val_loss: 0.0445 - learning_rate: 0.0010\n",
      "Epoch 31/50\n",
      "\u001b[1m1042/1042\u001b[0m \u001b[32m━━━━━━━━━━━━━━━━━━━━\u001b[0m\u001b[37m\u001b[0m \u001b[1m221s\u001b[0m 212ms/step - accuracy: 0.9696 - loss: 0.1193 - val_accuracy: 0.9981 - val_loss: 0.0360 - learning_rate: 5.0000e-04\n",
      "Epoch 32/50\n",
      "\u001b[1m1042/1042\u001b[0m \u001b[32m━━━━━━━━━━━━━━━━━━━━\u001b[0m\u001b[37m\u001b[0m \u001b[1m223s\u001b[0m 214ms/step - accuracy: 0.9717 - loss: 0.1035 - val_accuracy: 0.9981 - val_loss: 0.0312 - learning_rate: 5.0000e-04\n",
      "Epoch 33/50\n",
      "\u001b[1m1042/1042\u001b[0m \u001b[32m━━━━━━━━━━━━━━━━━━━━\u001b[0m\u001b[37m\u001b[0m \u001b[1m225s\u001b[0m 216ms/step - accuracy: 0.9719 - loss: 0.1004 - val_accuracy: 0.9983 - val_loss: 0.0275 - learning_rate: 5.0000e-04\n",
      "Epoch 34/50\n",
      "\u001b[1m1042/1042\u001b[0m \u001b[32m━━━━━━━━━━━━━━━━━━━━\u001b[0m\u001b[37m\u001b[0m \u001b[1m223s\u001b[0m 214ms/step - accuracy: 0.9711 - loss: 0.1014 - val_accuracy: 0.9993 - val_loss: 0.0245 - learning_rate: 5.0000e-04\n",
      "Epoch 35/50\n",
      "\u001b[1m1042/1042\u001b[0m \u001b[32m━━━━━━━━━━━━━━━━━━━━\u001b[0m\u001b[37m\u001b[0m \u001b[1m219s\u001b[0m 210ms/step - accuracy: 0.9717 - loss: 0.0949 - val_accuracy: 0.9985 - val_loss: 0.0252 - learning_rate: 5.0000e-04\n",
      "Epoch 36/50\n",
      "\u001b[1m1042/1042\u001b[0m \u001b[32m━━━━━━━━━━━━━━━━━━━━\u001b[0m\u001b[37m\u001b[0m \u001b[1m220s\u001b[0m 211ms/step - accuracy: 0.9743 - loss: 0.0898 - val_accuracy: 0.9990 - val_loss: 0.0235 - learning_rate: 5.0000e-04\n",
      "Epoch 37/50\n",
      "\u001b[1m1042/1042\u001b[0m \u001b[32m━━━━━━━━━━━━━━━━━━━━\u001b[0m\u001b[37m\u001b[0m \u001b[1m223s\u001b[0m 214ms/step - accuracy: 0.9731 - loss: 0.0938 - val_accuracy: 0.9981 - val_loss: 0.0263 - learning_rate: 5.0000e-04\n",
      "Epoch 38/50\n",
      "\u001b[1m1042/1042\u001b[0m \u001b[32m━━━━━━━━━━━━━━━━━━━━\u001b[0m\u001b[37m\u001b[0m \u001b[1m221s\u001b[0m 212ms/step - accuracy: 0.9743 - loss: 0.0884 - val_accuracy: 0.9986 - val_loss: 0.0242 - learning_rate: 5.0000e-04\n",
      "Epoch 39/50\n",
      "\u001b[1m1042/1042\u001b[0m \u001b[32m━━━━━━━━━━━━━━━━━━━━\u001b[0m\u001b[37m\u001b[0m \u001b[1m223s\u001b[0m 214ms/step - accuracy: 0.9733 - loss: 0.0896 - val_accuracy: 0.9988 - val_loss: 0.0238 - learning_rate: 5.0000e-04\n",
      "Epoch 40/50\n",
      "\u001b[1m1042/1042\u001b[0m \u001b[32m━━━━━━━━━━━━━━━━━━━━\u001b[0m\u001b[37m\u001b[0m \u001b[1m224s\u001b[0m 215ms/step - accuracy: 0.9717 - loss: 0.0937 - val_accuracy: 0.9983 - val_loss: 0.0240 - learning_rate: 5.0000e-04\n",
      "Epoch 41/50\n",
      "\u001b[1m1042/1042\u001b[0m \u001b[32m━━━━━━━━━━━━━━━━━━━━\u001b[0m\u001b[37m\u001b[0m \u001b[1m224s\u001b[0m 215ms/step - accuracy: 0.9750 - loss: 0.0884 - val_accuracy: 0.9993 - val_loss: 0.0214 - learning_rate: 5.0000e-04\n",
      "Epoch 42/50\n",
      "\u001b[1m1042/1042\u001b[0m \u001b[32m━━━━━━━━━━━━━━━━━━━━\u001b[0m\u001b[37m\u001b[0m \u001b[1m220s\u001b[0m 212ms/step - accuracy: 0.9724 - loss: 0.0943 - val_accuracy: 0.9986 - val_loss: 0.0217 - learning_rate: 5.0000e-04\n",
      "Epoch 43/50\n",
      "\u001b[1m1042/1042\u001b[0m \u001b[32m━━━━━━━━━━━━━━━━━━━━\u001b[0m\u001b[37m\u001b[0m \u001b[1m221s\u001b[0m 212ms/step - accuracy: 0.9743 - loss: 0.0903 - val_accuracy: 0.9993 - val_loss: 0.0223 - learning_rate: 5.0000e-04\n",
      "Epoch 44/50\n",
      "\u001b[1m1042/1042\u001b[0m \u001b[32m━━━━━━━━━━━━━━━━━━━━\u001b[0m\u001b[37m\u001b[0m \u001b[1m223s\u001b[0m 214ms/step - accuracy: 0.9745 - loss: 0.0856 - val_accuracy: 0.9986 - val_loss: 0.0218 - learning_rate: 5.0000e-04\n",
      "Epoch 45/50\n",
      "\u001b[1m1042/1042\u001b[0m \u001b[32m━━━━━━━━━━━━━━━━━━━━\u001b[0m\u001b[37m\u001b[0m \u001b[1m222s\u001b[0m 213ms/step - accuracy: 0.9755 - loss: 0.0853 - val_accuracy: 0.9981 - val_loss: 0.0237 - learning_rate: 5.0000e-04\n",
      "Epoch 46/50\n",
      "\u001b[1m1042/1042\u001b[0m \u001b[32m━━━━━━━━━━━━━━━━━━━━\u001b[0m\u001b[37m\u001b[0m \u001b[1m220s\u001b[0m 211ms/step - accuracy: 0.9754 - loss: 0.0789 - val_accuracy: 0.9986 - val_loss: 0.0216 - learning_rate: 5.0000e-04\n"
     ]
    }
   ],
   "source": [
    "# Train model\n",
    "history = model.fit(\n",
    "    train_gen,\n",
    "    validation_data=val_gen,\n",
    "    epochs=50,\n",
    "    callbacks=callbacks,\n",
    "    class_weight=class_weights\n",
    ")"
   ]
  },
  {
   "cell_type": "code",
   "execution_count": 18,
   "metadata": {
    "execution": {
     "iopub.execute_input": "2025-06-12T10:52:22.609900Z",
     "iopub.status.busy": "2025-06-12T10:52:22.609161Z",
     "iopub.status.idle": "2025-06-12T10:52:51.667209Z",
     "shell.execute_reply": "2025-06-12T10:52:51.666446Z",
     "shell.execute_reply.started": "2025-06-12T10:52:22.609867Z"
    },
    "trusted": true
   },
   "outputs": [
    {
     "name": "stdout",
     "output_type": "stream",
     "text": [
      "\u001b[1m395/395\u001b[0m \u001b[32m━━━━━━━━━━━━━━━━━━━━\u001b[0m\u001b[37m\u001b[0m \u001b[1m29s\u001b[0m 73ms/step - accuracy: 0.9881 - loss: 0.0595\n",
      "\n",
      "Base Test Accuracy: 98.80%\n"
     ]
    }
   ],
   "source": [
    "model.load_weights('best_model.h5')\n",
    "\n",
    "# Basic evaluation\n",
    "test_loss, test_acc = model.evaluate(test_gen)\n",
    "print(f\"\\nBase Test Accuracy: {test_acc*100:.2f}%\")"
   ]
  },
  {
   "cell_type": "code",
   "execution_count": null,
   "metadata": {
    "trusted": true
   },
   "outputs": [],
   "source": []
  }
 ],
 "metadata": {
  "kaggle": {
   "accelerator": "nvidiaTeslaT4",
   "dataSources": [
    {
     "datasetId": 82373,
     "sourceId": 191501,
     "sourceType": "datasetVersion"
    }
   ],
   "dockerImageVersionId": 31041,
   "isGpuEnabled": true,
   "isInternetEnabled": true,
   "language": "python",
   "sourceType": "notebook"
  },
  "kernelspec": {
   "display_name": "Python 3",
   "language": "python",
   "name": "python3"
  },
  "language_info": {
   "codemirror_mode": {
    "name": "ipython",
    "version": 3
   },
   "file_extension": ".py",
   "mimetype": "text/x-python",
   "name": "python",
   "nbconvert_exporter": "python",
   "pygments_lexer": "ipython3",
   "version": "3.11.11"
  }
 },
 "nbformat": 4,
 "nbformat_minor": 4
}
