{
 "cells": [
  {
   "cell_type": "code",
   "execution_count": null,
   "metadata": {
    "_cell_guid": "b1076dfc-b9ad-4769-8c92-a6c4dae69d19",
    "_uuid": "8f2839f25d086af736a60e9eeb907d3b93b6e0e5",
    "execution": {
     "iopub.execute_input": "2025-06-12T07:01:39.868737Z",
     "iopub.status.busy": "2025-06-12T07:01:39.868493Z",
     "iopub.status.idle": "2025-06-12T07:01:56.580335Z",
     "shell.execute_reply": "2025-06-12T07:01:56.579786Z",
     "shell.execute_reply.started": "2025-06-12T07:01:39.868713Z"
    }
   },
   "outputs": [],
   "source": [
    "import numpy as np\n",
    "import pandas as pd\n",
    "import os\n",
    "import cv2\n",
    "import tensorflow as tf\n",
    "from PIL import Image\n",
    "from sklearn.model_selection import train_test_split\n",
    "from sklearn.utils import class_weight"
   ]
  },
  {
   "cell_type": "code",
   "execution_count": null,
   "metadata": {
    "execution": {
     "iopub.execute_input": "2025-06-12T07:01:56.582070Z",
     "iopub.status.busy": "2025-06-12T07:01:56.581616Z",
     "iopub.status.idle": "2025-06-12T07:01:56.585594Z",
     "shell.execute_reply": "2025-06-12T07:01:56.584884Z",
     "shell.execute_reply.started": "2025-06-12T07:01:56.582052Z"
    }
   },
   "outputs": [],
   "source": [
    "IMG_SIZE = (128, 128)\n",
    "BATCH_SIZE = 32\n",
    "CLASSES = 43\n",
    "DATA_PATH = '/kaggle/input/gtsrb-german-traffic-sign'"
   ]
  },
  {
   "cell_type": "code",
   "execution_count": null,
   "metadata": {
    "execution": {
     "iopub.execute_input": "2025-06-12T07:02:18.802408Z",
     "iopub.status.busy": "2025-06-12T07:02:18.801854Z",
     "iopub.status.idle": "2025-06-12T07:02:18.809191Z",
     "shell.execute_reply": "2025-06-12T07:02:18.808453Z",
     "shell.execute_reply.started": "2025-06-12T07:02:18.802385Z"
    }
   },
   "outputs": [],
   "source": [
    "# Data Loading \n",
    "def load_data():\n",
    "    # Training data\n",
    "    train_df = pd.DataFrame(columns=['path', 'label'])\n",
    "    for class_id in range(CLASSES):\n",
    "        class_dir = os.path.join(DATA_PATH, 'train', str(class_id))\n",
    "        image_paths = [os.path.join(class_dir, f) for f in os.listdir(class_dir)]\n",
    "        temp_df = pd.DataFrame({'path': image_paths, 'label': class_id})\n",
    "        train_df = pd.concat([train_df, temp_df], ignore_index=True)\n",
    "\n",
    "    # Test data\n",
    "    test_df = pd.read_csv(os.path.join(DATA_PATH, 'Test.csv'))\n",
    "    test_df['path'] = test_df['Path'].apply(lambda x: os.path.join(DATA_PATH, x))\n",
    "    test_df['label'] = test_df['ClassId'].astype(np.int32)\n",
    "\n",
    "    # Print dataset statistics\n",
    "    \n",
    "    print(f\"Total training images loaded: {len(train_df)}\")\n",
    "    print(f\"Total test images loaded: {len(test_df)}\")\n",
    "    print(f\"Number of unique classes found: {train_df['label'].nunique()}\")\n",
    "    \n",
    "    # Stratified split\n",
    "    train_df, val_df = train_test_split(\n",
    "    train_df, test_size=0.15, stratify=train_df['label'], random_state=42\n",
    "    )\n",
    "\n",
    "    # Force labels to int32 in all splits\n",
    "    train_df['label'] = train_df['label'].astype(int).astype('int32')\n",
    "    val_df['label'] = val_df['label'].astype(int).astype('int32')\n",
    "    test_df['label'] = test_df['label'].astype(int).astype('int32')\n",
    "\n",
    "    \n",
    "    print(f\"\\nAfter stratified split:\")\n",
    "    print(f\"- Training samples: {len(train_df)}\")\n",
    "    print(f\"- Validation samples: {len(val_df)} \\n\")\n",
    "    \n",
    "    \n",
    "    return train_df, val_df, test_df\n"
   ]
  },
  {
   "cell_type": "code",
   "execution_count": null,
   "metadata": {
    "execution": {
     "iopub.execute_input": "2025-06-12T07:02:28.081018Z",
     "iopub.status.busy": "2025-06-12T07:02:28.080328Z",
     "iopub.status.idle": "2025-06-12T07:02:28.085014Z",
     "shell.execute_reply": "2025-06-12T07:02:28.084413Z",
     "shell.execute_reply.started": "2025-06-12T07:02:28.080993Z"
    }
   },
   "outputs": [],
   "source": [
    "# CLAHE Preprocessing\n",
    "def clahe_preprocessing(img):\n",
    "    img = np.array(img, dtype=np.uint8)\n",
    "    lab = cv2.cvtColor(img, cv2.COLOR_RGB2LAB)\n",
    "    clahe = cv2.createCLAHE(clipLimit=3.0, tileGridSize=(8,8))\n",
    "    lab[:,:,0] = clahe.apply(lab[:,:,0])\n",
    "    return cv2.cvtColor(lab, cv2.COLOR_LAB2RGB)"
   ]
  },
  {
   "cell_type": "code",
   "execution_count": null,
   "metadata": {
    "execution": {
     "iopub.execute_input": "2025-06-12T07:02:37.593139Z",
     "iopub.status.busy": "2025-06-12T07:02:37.592848Z",
     "iopub.status.idle": "2025-06-12T07:02:37.659379Z",
     "shell.execute_reply": "2025-06-12T07:02:37.658639Z",
     "shell.execute_reply.started": "2025-06-12T07:02:37.593118Z"
    }
   },
   "outputs": [],
   "source": [
    "# Data Augmentation\n",
    "train_datagen = tf.keras.preprocessing.image.ImageDataGenerator(\n",
    "    preprocessing_function=lambda x: clahe_preprocessing(x).astype(np.float32)/255.0,\n",
    "    rotation_range=25,\n",
    "    zoom_range=0.2,\n",
    "    width_shift_range=0.15,\n",
    "    height_shift_range=0.15,\n",
    "    shear_range=0.15,\n",
    "    brightness_range=[0.7, 1.3],\n",
    "    channel_shift_range=50,\n",
    "    fill_mode='constant',\n",
    "    cval=0.0\n",
    ")\n",
    "\n",
    "val_test_datagen = tf.keras.preprocessing.image.ImageDataGenerator(\n",
    "    preprocessing_function=lambda x: clahe_preprocessing(x).astype(np.float32)/255.0\n",
    ")\n"
   ]
  },
  {
   "cell_type": "code",
   "execution_count": null,
   "metadata": {
    "execution": {
     "iopub.execute_input": "2025-06-12T07:02:49.145592Z",
     "iopub.status.busy": "2025-06-12T07:02:49.145061Z",
     "iopub.status.idle": "2025-06-12T07:02:49.150656Z",
     "shell.execute_reply": "2025-06-12T07:02:49.149598Z",
     "shell.execute_reply.started": "2025-06-12T07:02:49.145567Z"
    }
   },
   "outputs": [],
   "source": [
    "def create_generators(train_df, val_df, test_df):\n",
    "    train_gen = train_datagen.flow_from_dataframe(\n",
    "        train_df,\n",
    "        x_col='path',\n",
    "        y_col='label',\n",
    "        target_size=IMG_SIZE,\n",
    "        class_mode='raw',\n",
    "        batch_size=BATCH_SIZE,\n",
    "        shuffle=True\n",
    "    )\n",
    "    \n",
    "    val_gen = val_test_datagen.flow_from_dataframe(\n",
    "        val_df,\n",
    "        x_col='path',\n",
    "        y_col='label',\n",
    "        target_size=IMG_SIZE,\n",
    "        class_mode='raw',\n",
    "        batch_size=BATCH_SIZE,\n",
    "        shuffle=False\n",
    "    )\n",
    "    \n",
    "    test_gen = val_test_datagen.flow_from_dataframe(\n",
    "        test_df,\n",
    "        x_col='path',\n",
    "        y_col='label',\n",
    "        target_size=IMG_SIZE,\n",
    "        class_mode='raw',\n",
    "        batch_size=BATCH_SIZE,\n",
    "        shuffle=False\n",
    "    )\n",
    "    \n",
    "    return train_gen, val_gen, test_gen"
   ]
  },
  {
   "cell_type": "code",
   "execution_count": null,
   "metadata": {
    "execution": {
     "iopub.execute_input": "2025-06-12T07:03:50.686541Z",
     "iopub.status.busy": "2025-06-12T07:03:50.686222Z",
     "iopub.status.idle": "2025-06-12T07:03:50.698495Z",
     "shell.execute_reply": "2025-06-12T07:03:50.697702Z",
     "shell.execute_reply.started": "2025-06-12T07:03:50.686519Z"
    }
   },
   "outputs": [],
   "source": [
    "from tensorflow.keras.regularizers import l2\n",
    "\n",
    "from tensorflow.keras.layers import (\n",
    "    Conv2D, BatchNormalization, MaxPool2D, Dense, \n",
    "    GlobalAveragePooling2D, Dropout, Multiply,\n",
    "    Reshape, Input, Activation\n",
    ")\n",
    "\n",
    "\n",
    "# Attention Model 1(Channel)\n",
    "class ChannelAttention(tf.keras.layers.Layer):\n",
    "    def __init__(self, ratio=8):\n",
    "        super().__init__()\n",
    "        self.ratio = ratio\n",
    "        \n",
    "    def build(self, input_shape):\n",
    "        self.channels = input_shape[-1]\n",
    "        self.gap = GlobalAveragePooling2D()\n",
    "        self.dense1 = Dense(self.channels // self.ratio, \n",
    "                          activation='relu', \n",
    "                          kernel_initializer='he_normal',\n",
    "                          use_bias=False)\n",
    "        self.dense2 = Dense(self.channels, \n",
    "                          activation='sigmoid',\n",
    "                          kernel_initializer='he_normal',\n",
    "                          use_bias=False)\n",
    "        super().build(input_shape)\n",
    "        \n",
    "    def call(self, inputs):\n",
    "        gap = self.gap(inputs) \n",
    "        gap = Reshape((1, 1, self.channels))(gap) \n",
    "        \n",
    "        x = self.dense1(gap)  \n",
    "        x = self.dense2(x)    \n",
    "        \n",
    "        return Multiply()([inputs, x]) \n",
    "\n",
    "\n",
    "\n",
    "\n",
    "# Attention Model 2(Spatial)\n",
    "class SpatialAttention(tf.keras.layers.Layer):\n",
    "    def __init__(self):\n",
    "        super().__init__()\n",
    "        self.conv = Conv2D(1, 7, padding='same', \n",
    "                          activation='sigmoid',\n",
    "                          kernel_initializer='he_normal')\n",
    "        \n",
    "    def call(self, inputs):\n",
    "        avg = tf.reduce_mean(inputs, axis=-1, keepdims=True)\n",
    "        mx = tf.reduce_max(inputs, axis=-1, keepdims=True)\n",
    "        x = tf.concat([avg, mx], axis=-1)\n",
    "        return inputs * self.conv(x)"
   ]
  },
  {
   "cell_type": "code",
   "execution_count": null,
   "metadata": {
    "execution": {
     "iopub.execute_input": "2025-06-12T07:04:01.943564Z",
     "iopub.status.busy": "2025-06-12T07:04:01.942994Z",
     "iopub.status.idle": "2025-06-12T07:04:01.949574Z",
     "shell.execute_reply": "2025-06-12T07:04:01.948862Z",
     "shell.execute_reply.started": "2025-06-12T07:04:01.943540Z"
    }
   },
   "outputs": [],
   "source": [
    "# Building CNN\n",
    "\n",
    "def conv_block(x, filters, kernel=3, stride=1, use_attn=True):\n",
    "    x = Conv2D(filters, kernel, strides=stride, padding='same',\n",
    "              kernel_initializer='he_normal')(x)\n",
    "    x = BatchNormalization()(x)\n",
    "    x = Activation('swish')(x)\n",
    "    if use_attn:\n",
    "        x = ChannelAttention(ratio=8)(x)\n",
    "        x = SpatialAttention()(x)\n",
    "    return x\n",
    "\n",
    "\n",
    "def build_model():\n",
    "    inputs = Input(shape=(*IMG_SIZE, 3))\n",
    "    \n",
    "    # Stem\n",
    "    x = conv_block(inputs, 32, stride=2, use_attn=False)\n",
    "    \n",
    "    # Block 1\n",
    "    x = conv_block(x, 64)\n",
    "    x = MaxPool2D(2)(x)\n",
    "    x = Dropout(0.2)(x)\n",
    "    \n",
    "    # Block 2\n",
    "    x = conv_block(x, 128)\n",
    "    x = conv_block(x, 128)\n",
    "    x = MaxPool2D(2)(x)\n",
    "    x = Dropout(0.3)(x)\n",
    "    \n",
    "    # Block 3\n",
    "    x = conv_block(x, 256)\n",
    "    x = conv_block(x, 512)\n",
    "    x = MaxPool2D(2)(x)\n",
    "    x = Dropout(0.4)(x)\n",
    "    \n",
    "    # Head\n",
    "    x = GlobalAveragePooling2D()(x)\n",
    "    x = Dense(512, activation='swish', kernel_regularizer=l2(1e-4))(x)\n",
    "    x = Dropout(0.5)(x)\n",
    "    outputs = Dense(CLASSES, activation='softmax')(x)\n",
    "    \n",
    "    return tf.keras.Model(inputs, outputs)"
   ]
  },
  {
   "cell_type": "code",
   "execution_count": null,
   "metadata": {
    "execution": {
     "iopub.execute_input": "2025-06-12T07:04:42.667500Z",
     "iopub.status.busy": "2025-06-12T07:04:42.667206Z",
     "iopub.status.idle": "2025-06-12T07:07:19.451680Z",
     "shell.execute_reply": "2025-06-12T07:07:19.451027Z",
     "shell.execute_reply.started": "2025-06-12T07:04:42.667480Z"
    }
   },
   "outputs": [],
   "source": [
    "# Load data\n",
    "train_df, val_df, test_df = load_data()\n",
    "train_gen, val_gen, test_gen = create_generators(train_df, val_df, test_df)"
   ]
  },
  {
   "cell_type": "code",
   "execution_count": null,
   "metadata": {
    "execution": {
     "iopub.execute_input": "2025-06-12T07:08:16.786771Z",
     "iopub.status.busy": "2025-06-12T07:08:16.786496Z",
     "iopub.status.idle": "2025-06-12T07:08:16.797385Z",
     "shell.execute_reply": "2025-06-12T07:08:16.796479Z",
     "shell.execute_reply.started": "2025-06-12T07:08:16.786751Z"
    }
   },
   "outputs": [],
   "source": [
    "# Class weights\n",
    "class_weights = class_weight.compute_class_weight(\n",
    "    'balanced', classes=np.unique(train_df['label']), y=train_df['label']\n",
    ")\n",
    "class_weights = {i: class_weights[i] for i in range(CLASSES)}"
   ]
  },
  {
   "cell_type": "code",
   "execution_count": null,
   "metadata": {
    "execution": {
     "iopub.execute_input": "2025-06-12T07:08:18.684561Z",
     "iopub.status.busy": "2025-06-12T07:08:18.683842Z",
     "iopub.status.idle": "2025-06-12T07:08:22.667236Z",
     "shell.execute_reply": "2025-06-12T07:08:22.666703Z",
     "shell.execute_reply.started": "2025-06-12T07:08:18.684537Z"
    }
   },
   "outputs": [],
   "source": [
    "from tensorflow.keras.optimizers import AdamW\n",
    "\n",
    "# Model & callbacks\n",
    "model = build_model()\n",
    "model.compile(\n",
    "    optimizer=AdamW(learning_rate=1e-3, weight_decay=1e-4),\n",
    "    loss='sparse_categorical_crossentropy', metrics=['accuracy']\n",
    ")\n",
    "\n",
    "callbacks = [\n",
    "    tf.keras.callbacks.EarlyStopping(patience=12, restore_best_weights=True,\n",
    "                                    monitor='val_accuracy', mode='max'),\n",
    "    tf.keras.callbacks.ReduceLROnPlateau(monitor='val_loss', factor=0.5,\n",
    "                                        patience=5, min_lr=1e-6),\n",
    "    tf.keras.callbacks.ModelCheckpoint('best_model.h5', save_best_only=True,\n",
    "                                      monitor='val_accuracy')\n",
    "]"
   ]
  },
  {
   "cell_type": "code",
   "execution_count": null,
   "metadata": {
    "execution": {
     "iopub.execute_input": "2025-06-12T07:08:24.621690Z",
     "iopub.status.busy": "2025-06-12T07:08:24.621158Z",
     "iopub.status.idle": "2025-06-12T10:02:09.389774Z",
     "shell.execute_reply": "2025-06-12T10:02:09.389168Z",
     "shell.execute_reply.started": "2025-06-12T07:08:24.621667Z"
    }
   },
   "outputs": [],
   "source": [
    "# Train model\n",
    "history = model.fit(\n",
    "    train_gen,\n",
    "    validation_data=val_gen,\n",
    "    epochs=50,\n",
    "    callbacks=callbacks,\n",
    "    class_weight=class_weights\n",
    ")"
   ]
  },
  {
   "cell_type": "code",
   "execution_count": null,
   "metadata": {
    "execution": {
     "iopub.execute_input": "2025-06-12T10:52:22.609900Z",
     "iopub.status.busy": "2025-06-12T10:52:22.609161Z",
     "iopub.status.idle": "2025-06-12T10:52:51.667209Z",
     "shell.execute_reply": "2025-06-12T10:52:51.666446Z",
     "shell.execute_reply.started": "2025-06-12T10:52:22.609867Z"
    }
   },
   "outputs": [],
   "source": [
    "model.load_weights('best_model.h5')\n",
    "\n",
    "# Basic evaluation\n",
    "test_loss, test_acc = model.evaluate(test_gen)\n",
    "print(f\"\\nBase Test Accuracy: {test_acc*100:.2f}%\")"
   ]
  },
  {
   "cell_type": "code",
   "execution_count": null,
   "metadata": {},
   "outputs": [],
   "source": []
  }
 ],
 "metadata": {
  "kaggle": {
   "accelerator": "nvidiaTeslaT4",
   "dataSources": [
    {
     "datasetId": 82373,
     "sourceId": 191501,
     "sourceType": "datasetVersion"
    }
   ],
   "dockerImageVersionId": 31041,
   "isGpuEnabled": true,
   "isInternetEnabled": true,
   "language": "python",
   "sourceType": "notebook"
  },
  "kernelspec": {
   "display_name": "Python 3",
   "language": "python",
   "name": "python3"
  },
  "language_info": {
   "codemirror_mode": {
    "name": "ipython",
    "version": 3
   },
   "file_extension": ".py",
   "mimetype": "text/x-python",
   "name": "python",
   "nbconvert_exporter": "python",
   "pygments_lexer": "ipython3",
   "version": "3.11.11"
  }
 },
 "nbformat": 4,
 "nbformat_minor": 4
}
