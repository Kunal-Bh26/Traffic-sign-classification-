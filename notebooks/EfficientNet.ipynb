{
 "cells": [
  {
   "cell_type": "code",
   "execution_count": null,
   "metadata": {
    "execution": {
     "iopub.execute_input": "2025-06-05T11:22:29.391629Z",
     "iopub.status.busy": "2025-06-05T11:22:29.391363Z",
     "iopub.status.idle": "2025-06-05T11:22:29.397042Z",
     "shell.execute_reply": "2025-06-05T11:22:29.396487Z",
     "shell.execute_reply.started": "2025-06-05T11:22:29.391608Z"
    }
   },
   "outputs": [],
   "source": [
    "print(f\"Initialising imports......\")\n",
    "\n",
    "import numpy as np\n",
    "import pandas as pd\n",
    "import os\n",
    "from PIL import Image\n",
    "from sklearn.model_selection import train_test_split\n",
    "from sklearn.utils import class_weight\n",
    "from tensorflow.keras.models import Model\n",
    "from tensorflow.keras.layers import Input, Dense, Dropout, GlobalAveragePooling2D\n",
    "from tensorflow.keras.optimizers import Adam\n",
    "from tensorflow.keras.callbacks import EarlyStopping, ReduceLROnPlateau, ModelCheckpoint\n",
    "from tensorflow.keras.preprocessing.image import ImageDataGenerator\n",
    "from tensorflow.keras.applications import EfficientNetB0\n",
    "from tensorflow.keras.applications.efficientnet import preprocess_input\n",
    "from tensorflow.keras.utils import to_categorical\n",
    "\n",
    "print(f\"\\nImports and Configurations Done Successfully!\")"
   ]
  },
  {
   "cell_type": "code",
   "execution_count": null,
   "metadata": {
    "execution": {
     "iopub.execute_input": "2025-06-05T11:22:42.329469Z",
     "iopub.status.busy": "2025-06-05T11:22:42.328765Z",
     "iopub.status.idle": "2025-06-05T11:22:42.332661Z",
     "shell.execute_reply": "2025-06-05T11:22:42.331998Z",
     "shell.execute_reply.started": "2025-06-05T11:22:42.329445Z"
    }
   },
   "outputs": [],
   "source": [
    "IMG_SIZE = (128, 128)\n",
    "BATCH_SIZE = 32\n",
    "CLASSES = 43"
   ]
  },
  {
   "cell_type": "code",
   "execution_count": null,
   "metadata": {
    "execution": {
     "iopub.execute_input": "2025-06-05T11:23:33.583790Z",
     "iopub.status.busy": "2025-06-05T11:23:33.582932Z",
     "iopub.status.idle": "2025-06-05T11:23:33.588287Z",
     "shell.execute_reply": "2025-06-05T11:23:33.587739Z",
     "shell.execute_reply.started": "2025-06-05T11:23:33.583760Z"
    }
   },
   "outputs": [],
   "source": [
    "def create_dataframe(train_dir):\n",
    "    data = []\n",
    "    for class_id in range(CLASSES):\n",
    "        class_path = os.path.join(train_dir, str(class_id))\n",
    "        for img_name in os.listdir(class_path):\n",
    "            img_path = os.path.join(class_path, img_name)\n",
    "            data.append({'filepath': img_path, 'label': str(class_id)})\n",
    "    df = pd.DataFrame(data)\n",
    "    return df\n",
    "\n",
    "train_dir = '/kaggle/input/gtsrb-german-traffic-sign/train'\n",
    "test_csv = '/kaggle/input/gtsrb-german-traffic-sign/Test.csv'\n",
    "test_img_dir = '/kaggle/input/gtsrb-german-traffic-sign'"
   ]
  },
  {
   "cell_type": "code",
   "execution_count": null,
   "metadata": {
    "execution": {
     "iopub.execute_input": "2025-06-05T11:23:41.821690Z",
     "iopub.status.busy": "2025-06-05T11:23:41.821230Z",
     "iopub.status.idle": "2025-06-05T11:23:43.885765Z",
     "shell.execute_reply": "2025-06-05T11:23:43.885040Z",
     "shell.execute_reply.started": "2025-06-05T11:23:41.821669Z"
    }
   },
   "outputs": [],
   "source": [
    "df = create_dataframe(train_dir)\n",
    "train_df, val_df = train_test_split(\n",
    "    df, test_size=0.15, stratify=df['label'], random_state=42\n",
    ")\n",
    "test_df = pd.read_csv(test_csv)\n",
    "test_df['filepath'] = test_df['Path'].apply(lambda x: os.path.join(test_img_dir, x))\n",
    "test_df['label'] = test_df['ClassId'].astype(str)\n",
    "\n",
    "print(f\"Dataframes Created\")"
   ]
  },
  {
   "cell_type": "code",
   "execution_count": null,
   "metadata": {
    "execution": {
     "iopub.execute_input": "2025-06-05T11:24:46.929337Z",
     "iopub.status.busy": "2025-06-05T11:24:46.929039Z",
     "iopub.status.idle": "2025-06-05T11:28:58.933794Z",
     "shell.execute_reply": "2025-06-05T11:28:58.933175Z",
     "shell.execute_reply.started": "2025-06-05T11:24:46.929317Z"
    }
   },
   "outputs": [],
   "source": [
    "train_datagen = ImageDataGenerator(\n",
    "    preprocessing_function=preprocess_input,\n",
    "    rotation_range=20,\n",
    "    zoom_range=0.2,\n",
    "    width_shift_range=0.15,\n",
    "    height_shift_range=0.15,\n",
    "    shear_range=0.15,\n",
    "    brightness_range=[0.8, 1.2],\n",
    "    fill_mode='nearest'\n",
    ")\n",
    "val_datagen = ImageDataGenerator(preprocessing_function=preprocess_input)\n",
    "test_datagen = ImageDataGenerator(preprocessing_function=preprocess_input)\n",
    "\n",
    "def make_generator(datagen, dataframe, shuffle=True):\n",
    "    return datagen.flow_from_dataframe(\n",
    "        dataframe,\n",
    "        x_col='filepath',\n",
    "        y_col='label',\n",
    "        target_size=IMG_SIZE,\n",
    "        class_mode='categorical',\n",
    "        batch_size=BATCH_SIZE,\n",
    "        shuffle=shuffle\n",
    "    )\n",
    "\n",
    "train_gen = make_generator(train_datagen, train_df)\n",
    "val_gen = make_generator(val_datagen, val_df, shuffle=False)\n",
    "test_gen = make_generator(test_datagen, test_df, shuffle=False)"
   ]
  },
  {
   "cell_type": "code",
   "execution_count": null,
   "metadata": {
    "execution": {
     "iopub.execute_input": "2025-06-05T11:30:18.073993Z",
     "iopub.status.busy": "2025-06-05T11:30:18.073674Z",
     "iopub.status.idle": "2025-06-05T11:30:18.113227Z",
     "shell.execute_reply": "2025-06-05T11:30:18.112431Z",
     "shell.execute_reply.started": "2025-06-05T11:30:18.073969Z"
    }
   },
   "outputs": [],
   "source": [
    "class_weights = class_weight.compute_class_weight(\n",
    "    'balanced', classes=np.unique(train_df['label']), y=train_df['label']\n",
    ")\n",
    "class_weights = {i: class_weights[i] for i in range(CLASSES)}"
   ]
  },
  {
   "cell_type": "code",
   "execution_count": null,
   "metadata": {
    "execution": {
     "iopub.execute_input": "2025-06-05T11:30:26.828932Z",
     "iopub.status.busy": "2025-06-05T11:30:26.828375Z",
     "iopub.status.idle": "2025-06-05T11:30:34.965913Z",
     "shell.execute_reply": "2025-06-05T11:30:34.965294Z",
     "shell.execute_reply.started": "2025-06-05T11:30:26.828906Z"
    }
   },
   "outputs": [],
   "source": [
    "print(f\"Building Model.....\\n\")\n",
    "base_model = EfficientNetB0(\n",
    "    include_top=False,\n",
    "    weights='imagenet',\n",
    "    input_shape=(IMG_SIZE[0], IMG_SIZE[1], 3)\n",
    ")\n",
    "base_model.trainable = False\n",
    "\n",
    "inputs = Input(shape=(IMG_SIZE[0], IMG_SIZE[1], 3))\n",
    "x = base_model(inputs, training=False)\n",
    "x = GlobalAveragePooling2D()(x)\n",
    "x = Dropout(0.3)(x)\n",
    "x = Dense(256, activation='relu')(x)\n",
    "x = Dropout(0.3)(x)\n",
    "outputs = Dense(CLASSES, activation='softmax')(x)\n",
    "model = Model(inputs, outputs)\n",
    "print(f\"\\nModel Built Succesfully!\")"
   ]
  },
  {
   "cell_type": "code",
   "execution_count": null,
   "metadata": {
    "execution": {
     "iopub.execute_input": "2025-06-05T11:31:12.696910Z",
     "iopub.status.busy": "2025-06-05T11:31:12.696575Z",
     "iopub.status.idle": "2025-06-05T12:28:59.527057Z",
     "shell.execute_reply": "2025-06-05T12:28:59.526384Z",
     "shell.execute_reply.started": "2025-06-05T11:31:12.696886Z"
    }
   },
   "outputs": [],
   "source": [
    "print(f\"Initialising training....\\n\")\n",
    "model.compile(\n",
    "    optimizer=Adam(learning_rate=1e-3),\n",
    "    loss='categorical_crossentropy',\n",
    "    metrics=['accuracy']\n",
    ")\n",
    "callbacks = [\n",
    "    EarlyStopping(patience=6, restore_best_weights=True, monitor='val_accuracy'),\n",
    "    ReduceLROnPlateau(monitor='val_loss', factor=0.5, patience=3, min_lr=1e-6),\n",
    "    ModelCheckpoint('best_model.h5', save_best_only=True, monitor='val_accuracy')\n",
    "]\n",
    "\n",
    "history = model.fit(\n",
    "    train_gen,\n",
    "    validation_data=val_gen,\n",
    "    epochs=15,\n",
    "    callbacks=callbacks,\n",
    "    class_weight=class_weights\n",
    ")\n",
    "\n",
    "print(f\"\\nModel Trained!\")"
   ]
  },
  {
   "cell_type": "code",
   "execution_count": null,
   "metadata": {
    "execution": {
     "iopub.execute_input": "2025-06-05T12:35:38.374969Z",
     "iopub.status.busy": "2025-06-05T12:35:38.374218Z",
     "iopub.status.idle": "2025-06-05T13:32:05.926990Z",
     "shell.execute_reply": "2025-06-05T13:32:05.926324Z",
     "shell.execute_reply.started": "2025-06-05T12:35:38.374946Z"
    }
   },
   "outputs": [],
   "source": [
    "base_model.trainable = True\n",
    "model.compile(\n",
    "    optimizer=Adam(learning_rate=1e-5),\n",
    "    loss='categorical_crossentropy',\n",
    "    metrics=['accuracy']\n",
    ")\n",
    "history_ft = model.fit(\n",
    "    train_gen,\n",
    "    validation_data=val_gen,\n",
    "    epochs=15,\n",
    "    callbacks=callbacks,\n",
    "    class_weight=class_weights\n",
    ")\n",
    "\n",
    "print(f\"Model Tuned!\")"
   ]
  },
  {
   "cell_type": "code",
   "execution_count": null,
   "metadata": {
    "execution": {
     "iopub.execute_input": "2025-06-05T13:35:51.054911Z",
     "iopub.status.busy": "2025-06-05T13:35:51.054345Z",
     "iopub.status.idle": "2025-06-05T13:37:53.952067Z",
     "shell.execute_reply": "2025-06-05T13:37:53.951429Z",
     "shell.execute_reply.started": "2025-06-05T13:35:51.054885Z"
    }
   },
   "outputs": [],
   "source": [
    "print(f\"Evaluating the model....\\n\")\n",
    "model.load_weights('best_model.h5')\n",
    "test_loss, test_acc = model.evaluate(test_gen)\n",
    "print(f\"\\nTest Accuracy: {test_acc * 100:.2f}%\")"
   ]
  },
  {
   "cell_type": "code",
   "execution_count": null,
   "metadata": {
    "execution": {
     "iopub.execute_input": "2025-06-05T13:45:10.853638Z",
     "iopub.status.busy": "2025-06-05T13:45:10.853018Z",
     "iopub.status.idle": "2025-06-05T13:45:10.860316Z",
     "shell.execute_reply": "2025-06-05T13:45:10.859617Z",
     "shell.execute_reply.started": "2025-06-05T13:45:10.853617Z"
    }
   },
   "outputs": [],
   "source": [
    "print(\"\\n=== DEFINING CLASS LABELS ===\")\n",
    "classes = {\n",
    "            0: 'Speed limit (20km/h)',\n",
    "            1: 'Speed limit (30km/h)',\n",
    "            2: 'Speed limit (50km/h)',\n",
    "            3: 'Speed limit (60km/h)',\n",
    "            4: 'Speed limit (70km/h)',\n",
    "            5: 'Speed limit (80km/h)',\n",
    "            6: 'End of speed limit (80km/h)',\n",
    "            7: 'Speed limit (100km/h)',\n",
    "            8: 'Speed limit (120 km/h)',\n",
    "            9: 'No passing',\n",
    "           10: 'No passing veh over 3.5 tons',\n",
    "           11: 'Right-of-way at intersection',\n",
    "           12: 'Priority road',\n",
    "           13: 'Yield',\n",
    "           14: 'Stop',\n",
    "           15: 'No vehicles',\n",
    "           16: 'Veh > 3.5 tons prohibited',\n",
    "           17: 'No entry',\n",
    "           18: 'General caution',\n",
    "           19: 'Dangerous curve left',\n",
    "           20: 'Dangerous curve right',\n",
    "           21: 'Double curve',\n",
    "           22: 'Bumpy road',\n",
    "           23: 'Slippery road',\n",
    "           24: 'Road narrows on the right',\n",
    "           25: 'Road work',\n",
    "           26: 'Traffic signals',\n",
    "           27: 'Pedestrians',\n",
    "           28: 'Children crossing',\n",
    "           29: 'Bicycles crossing',\n",
    "           30: 'Beware of ice/snow',\n",
    "           31: 'Wild animals crossing',\n",
    "           32: 'End speed + passing limits',\n",
    "           33: 'Turn right ahead',\n",
    "           34: 'Turn left ahead',\n",
    "           35: 'Ahead only',\n",
    "           36: 'Go straight or right',\n",
    "           37: 'Go straight or left',\n",
    "           38: 'Keep right',\n",
    "           39: 'Keep left',\n",
    "           40: 'Roundabout mandatory',\n",
    "           41: 'End of no passing',\n",
    "           42: 'End no passing veh > 3.5 tons'\n",
    "}\n",
    "print(f\"Defined {len(classes)} traffic sign classes\")"
   ]
  },
  {
   "cell_type": "code",
   "execution_count": null,
   "metadata": {
    "execution": {
     "iopub.execute_input": "2025-06-05T13:46:52.652622Z",
     "iopub.status.busy": "2025-06-05T13:46:52.651974Z",
     "iopub.status.idle": "2025-06-05T13:46:52.815948Z",
     "shell.execute_reply": "2025-06-05T13:46:52.815328Z",
     "shell.execute_reply.started": "2025-06-05T13:46:52.652602Z"
    }
   },
   "outputs": [],
   "source": [
    "import matplotlib.pyplot as plt\n",
    "\n",
    "def predict_traffic_sign(img_path):\n",
    "    img = Image.open(img_path).convert('RGB').resize(IMG_SIZE)\n",
    "    img = preprocess_input(np.array(img, dtype=np.float32))\n",
    "    pred = model.predict(np.expand_dims(img, axis=0))\n",
    "    class_id = np.argmax(pred)\n",
    "    confidence = pred[0][class_id]\n",
    "    class_name = classes[class_id] \n",
    "    return class_id, class_name, confidence, img\n",
    "\n",
    "# Example prediction\n",
    "img_path = '/kaggle/input/gtsrb-german-traffic-sign/Test/00001.png'\n",
    "class_id, class_name, confidence, img_array = predict_traffic_sign(img_path)\n",
    "print(f\"Predicted: {class_name} (class {class_id}) with confidence: {confidence:.2%}\")\n",
    "\n",
    "plt.imshow(Image.open(img_path))\n",
    "plt.title(f\"Predicted: {class_name}\\n({confidence:.2%})\")\n",
    "plt.axis('off')\n",
    "plt.show()\n"
   ]
  },
  {
   "cell_type": "code",
   "execution_count": null,
   "metadata": {},
   "outputs": [],
   "source": []
  },
  {
   "cell_type": "code",
   "execution_count": null,
   "metadata": {},
   "outputs": [],
   "source": []
  },
  {
   "cell_type": "code",
   "execution_count": null,
   "metadata": {},
   "outputs": [],
   "source": []
  }
 ],
 "metadata": {
  "kaggle": {
   "accelerator": "nvidiaTeslaT4",
   "dataSources": [
    {
     "datasetId": 82373,
     "sourceId": 191501,
     "sourceType": "datasetVersion"
    }
   ],
   "dockerImageVersionId": 31041,
   "isGpuEnabled": true,
   "isInternetEnabled": true,
   "language": "python",
   "sourceType": "notebook"
  },
  "kernelspec": {
   "display_name": "Python 3",
   "language": "python",
   "name": "python3"
  },
  "language_info": {
   "codemirror_mode": {
    "name": "ipython",
    "version": 3
   },
   "file_extension": ".py",
   "mimetype": "text/x-python",
   "name": "python",
   "nbconvert_exporter": "python",
   "pygments_lexer": "ipython3",
   "version": "3.11.11"
  }
 },
 "nbformat": 4,
 "nbformat_minor": 4
}
